{
 "cells": [
  {
   "cell_type": "code",
   "execution_count": 21,
   "id": "e4794d79",
   "metadata": {},
   "outputs": [],
   "source": [
    "# Imports\n",
    "import json, os\n",
    "import pandas as pd\n",
    "from yelpapi import YelpAPI"
   ]
  },
  {
   "cell_type": "code",
   "execution_count": 22,
   "id": "53e2ac59",
   "metadata": {},
   "outputs": [
    {
     "data": {
      "text/plain": [
       "dict_keys(['client-id', 'api-key'])"
      ]
     },
     "execution_count": 22,
     "metadata": {},
     "output_type": "execute_result"
    }
   ],
   "source": [
    "# Load Credentials\n",
    "with open('/Users/julia/.secret/yelp_api.json') as f:\n",
    "    login = json.load(f)\n",
    "login.keys()"
   ]
  },
  {
   "cell_type": "code",
   "execution_count": 23,
   "id": "f18c034b",
   "metadata": {},
   "outputs": [
    {
     "data": {
      "text/plain": [
       "<yelpapi.yelpapi.YelpAPI at 0x230b3a4ef70>"
      ]
     },
     "execution_count": 23,
     "metadata": {},
     "output_type": "execute_result"
    }
   ],
   "source": [
    "# Instantiate YelpAPI Variable\n",
    "yelp_api = YelpAPI(login['api-key'], timeout_s=5.0)\n",
    "yelp_api"
   ]
  },
  {
   "cell_type": "code",
   "execution_count": 24,
   "id": "06255030",
   "metadata": {},
   "outputs": [],
   "source": [
    "# Set our API call parameters and filename before the first call\n",
    "LOCATION = 'San Diego, CA'\n",
    "TERM = 'Pasta'"
   ]
  },
  {
   "cell_type": "code",
   "execution_count": 25,
   "id": "636a5c55",
   "metadata": {},
   "outputs": [
    {
     "data": {
      "text/plain": [
       "'Data/results_in_progress_pasta.json'"
      ]
     },
     "execution_count": 25,
     "metadata": {},
     "output_type": "execute_result"
    }
   ],
   "source": [
    "# Specifying JSON_FILE filename \n",
    "JSON_FILE = f\"Data/results_in_progress_pasta.json\"\n",
    "JSON_FILE"
   ]
  },
  {
   "cell_type": "code",
   "execution_count": 26,
   "id": "3e1bf94f",
   "metadata": {},
   "outputs": [
    {
     "name": "stdout",
     "output_type": "stream",
     "text": [
      "[i] Data/results_in_progress_pasta.json already exists.\n"
     ]
    }
   ],
   "source": [
    "# Check if JSON_FILE exists\n",
    "file_exists = os.path.isfile(JSON_FILE)\n",
    "# If it does not exist: \n",
    "if file_exists == False:\n",
    "    \n",
    "    # CREATE ANY NEEDED FOLDERS\n",
    "    # Get the Folder Name only\n",
    "    folder = os.path.dirname(JSON_FILE)\n",
    "    # If JSON_FILE included a folder:\n",
    "    if len(folder)>0:\n",
    "        # create the folder\n",
    "        os.makedirs(folder,exist_ok=True)\n",
    "        \n",
    "        \n",
    "    # INFORM USER AND SAVE EMPTY LIST\n",
    "    print(f\"[i] {JSON_FILE} not found. Saving empty list to file.\")\n",
    "    \n",
    "    \n",
    "    # save the first page of results\n",
    "    with open(JSON_FILE,'w') as f:\n",
    "        json.dump([],f)  \n",
    "# If it exists, inform user\n",
    "else:\n",
    "    print(f\"[i] {JSON_FILE} already exists.\")"
   ]
  },
  {
   "cell_type": "code",
   "execution_count": 27,
   "id": "c5a3261e",
   "metadata": {},
   "outputs": [
    {
     "name": "stdout",
     "output_type": "stream",
     "text": [
      "- 0 previous results found.\n"
     ]
    }
   ],
   "source": [
    "# Load previous results and use len of results for offset\n",
    "with open(JSON_FILE,'r') as f:\n",
    "    previous_results = json.load(f)\n",
    "    \n",
    "## set offset based on previous results\n",
    "n_results = len(previous_results)\n",
    "print(f'- {n_results} previous results found.')"
   ]
  },
  {
   "cell_type": "code",
   "execution_count": 28,
   "id": "0ccc47a8",
   "metadata": {},
   "outputs": [
    {
     "data": {
      "text/plain": [
       "dict_keys(['businesses', 'total', 'region'])"
      ]
     },
     "execution_count": 28,
     "metadata": {},
     "output_type": "execute_result"
    }
   ],
   "source": [
    "# use our yelp_api variable's search_query method to perform our API call\n",
    "results = yelp_api.search_query(location=LOCATION,\n",
    "                                term=TERM,\n",
    "                               offset=n_results)\n",
    "results.keys()"
   ]
  },
  {
   "cell_type": "code",
   "execution_count": 29,
   "id": "c5b29e6e",
   "metadata": {},
   "outputs": [
    {
     "data": {
      "text/plain": [
       "956"
      ]
     },
     "execution_count": 29,
     "metadata": {},
     "output_type": "execute_result"
    }
   ],
   "source": [
    "# How many results total?\n",
    "total_results = results['total']\n",
    "total_results"
   ]
  },
  {
   "cell_type": "code",
   "execution_count": 30,
   "id": "c8f448d2",
   "metadata": {},
   "outputs": [
    {
     "data": {
      "text/plain": [
       "20"
      ]
     },
     "execution_count": 30,
     "metadata": {},
     "output_type": "execute_result"
    }
   ],
   "source": [
    "# How many did we get the details for?\n",
    "results_per_page = len(results['businesses'])\n",
    "results_per_page"
   ]
  },
  {
   "cell_type": "code",
   "execution_count": 31,
   "id": "3bd07aed",
   "metadata": {},
   "outputs": [
    {
     "data": {
      "text/plain": [
       "48"
      ]
     },
     "execution_count": 31,
     "metadata": {},
     "output_type": "execute_result"
    }
   ],
   "source": [
    "# Import additional packages for controlling our loop\n",
    "import time, math\n",
    "# Use math.ceil to round up for the total number of pages of results.\n",
    "n_pages = math.ceil((results['total']-n_results)/ results_per_page)\n",
    "n_pages"
   ]
  },
  {
   "cell_type": "code",
   "execution_count": 35,
   "id": "fcc6d1eb",
   "metadata": {},
   "outputs": [
    {
     "data": {
      "application/vnd.jupyter.widget-view+json": {
       "model_id": "bb7b111bebd14648bdec01c1508325cc",
       "version_major": 2,
       "version_minor": 0
      },
      "text/plain": [
       "  0%|          | 0/48 [00:00<?, ?it/s]"
      ]
     },
     "metadata": {},
     "output_type": "display_data"
    }
   ],
   "source": [
    "from tqdm.notebook import tqdm_notebook\n",
    "import time\n",
    "for i in tqdm_notebook(range(n_pages)):\n",
    "    # adds 200 ms pause\n",
    "    time.sleep(.2) "
   ]
  },
  {
   "cell_type": "code",
   "execution_count": 36,
   "id": "904b3e9f",
   "metadata": {},
   "outputs": [
    {
     "data": {
      "application/vnd.jupyter.widget-view+json": {
       "model_id": "a317ac6b84e940829a1358f60fb04282",
       "version_major": 2,
       "version_minor": 0
      },
      "text/plain": [
       "  0%|          | 0/48 [00:00<?, ?it/s]"
      ]
     },
     "metadata": {},
     "output_type": "display_data"
    }
   ],
   "source": [
    "for i in tqdm_notebook( range(1,n_pages+1)):\n",
    "    time.sleep(.2)\n",
    "    ## Read in results in progress file and check the length\n",
    "    with open(JSON_FILE, 'r') as f:\n",
    "        previous_results = json.load(f)\n",
    "    ## save number of results for to use as offset\n",
    "    n_results = len(previous_results)\n",
    "    ## use n_results as the OFFSET \n",
    "    results = yelp_api.search_query(location=LOCATION,\n",
    "                                    term=TERM, \n",
    "                                    offset=n_results)\n",
    "    \n",
    "    ## append new results and save to file\n",
    "    previous_results.extend(results['businesses'])\n",
    "    \n",
    "#     display(previous_results)\n",
    "    with open(JSON_FILE,'w') as f:\n",
    "        json.dump(previous_results,f)\n",
    "\n"
   ]
  },
  {
   "cell_type": "code",
   "execution_count": 37,
   "id": "93536aed",
   "metadata": {},
   "outputs": [
    {
     "data": {
      "text/html": [
       "<div>\n",
       "<style scoped>\n",
       "    .dataframe tbody tr th:only-of-type {\n",
       "        vertical-align: middle;\n",
       "    }\n",
       "\n",
       "    .dataframe tbody tr th {\n",
       "        vertical-align: top;\n",
       "    }\n",
       "\n",
       "    .dataframe thead th {\n",
       "        text-align: right;\n",
       "    }\n",
       "</style>\n",
       "<table border=\"1\" class=\"dataframe\">\n",
       "  <thead>\n",
       "    <tr style=\"text-align: right;\">\n",
       "      <th></th>\n",
       "      <th>id</th>\n",
       "      <th>alias</th>\n",
       "      <th>name</th>\n",
       "      <th>image_url</th>\n",
       "      <th>is_closed</th>\n",
       "      <th>url</th>\n",
       "      <th>review_count</th>\n",
       "      <th>categories</th>\n",
       "      <th>rating</th>\n",
       "      <th>coordinates</th>\n",
       "      <th>transactions</th>\n",
       "      <th>price</th>\n",
       "      <th>location</th>\n",
       "      <th>phone</th>\n",
       "      <th>display_phone</th>\n",
       "      <th>distance</th>\n",
       "    </tr>\n",
       "  </thead>\n",
       "  <tbody>\n",
       "    <tr>\n",
       "      <th>0</th>\n",
       "      <td>W0dzJ7E6R3kyAOXIlO_tbw</td>\n",
       "      <td>ristorante-illando-san-diego</td>\n",
       "      <td>Ristorante Illando</td>\n",
       "      <td>https://s3-media3.fl.yelpcdn.com/bphoto/7U-OZH...</td>\n",
       "      <td>False</td>\n",
       "      <td>https://www.yelp.com/biz/ristorante-illando-sa...</td>\n",
       "      <td>2140</td>\n",
       "      <td>[{'alias': 'italian', 'title': 'Italian'}]</td>\n",
       "      <td>4.5</td>\n",
       "      <td>{'latitude': 32.724048614502, 'longitude': -11...</td>\n",
       "      <td>[restaurant_reservation, delivery, pickup]</td>\n",
       "      <td>$$</td>\n",
       "      <td>{'address1': '1825 India Street', 'address2': ...</td>\n",
       "      <td>+16196935204</td>\n",
       "      <td>(619) 693-5204</td>\n",
       "      <td>7514.018555</td>\n",
       "    </tr>\n",
       "    <tr>\n",
       "      <th>1</th>\n",
       "      <td>ruZ45_rMndqb7aLEr6VSOw</td>\n",
       "      <td>cesarina-san-diego-3</td>\n",
       "      <td>Cesarina</td>\n",
       "      <td>https://s3-media1.fl.yelpcdn.com/bphoto/Yv3Z0k...</td>\n",
       "      <td>False</td>\n",
       "      <td>https://www.yelp.com/biz/cesarina-san-diego-3?...</td>\n",
       "      <td>1402</td>\n",
       "      <td>[{'alias': 'italian', 'title': 'Italian'}, {'a...</td>\n",
       "      <td>5.0</td>\n",
       "      <td>{'latitude': 32.74319, 'longitude': -117.23453}</td>\n",
       "      <td>[delivery]</td>\n",
       "      <td>$$</td>\n",
       "      <td>{'address1': '4161 Voltaire St', 'address2': '...</td>\n",
       "      <td>+16192266222</td>\n",
       "      <td>(619) 226-6222</td>\n",
       "      <td>9184.829871</td>\n",
       "    </tr>\n",
       "    <tr>\n",
       "      <th>2</th>\n",
       "      <td>qXRzQERT-WFDo6spPeQwZw</td>\n",
       "      <td>pesto-italian-craft-kitchen-mission-valley-san...</td>\n",
       "      <td>Pesto Italian Craft Kitchen - Mission Valley</td>\n",
       "      <td>https://s3-media2.fl.yelpcdn.com/bphoto/OVbDWc...</td>\n",
       "      <td>False</td>\n",
       "      <td>https://www.yelp.com/biz/pesto-italian-craft-k...</td>\n",
       "      <td>345</td>\n",
       "      <td>[{'alias': 'pizza', 'title': 'Pizza'}, {'alias...</td>\n",
       "      <td>4.5</td>\n",
       "      <td>{'latitude': 32.769922, 'longitude': -117.146673}</td>\n",
       "      <td>[delivery, pickup]</td>\n",
       "      <td>$$</td>\n",
       "      <td>{'address1': '1652 Camino Del Rio N', 'address...</td>\n",
       "      <td>+16196799030</td>\n",
       "      <td>(619) 679-9030</td>\n",
       "      <td>2395.158360</td>\n",
       "    </tr>\n",
       "    <tr>\n",
       "      <th>3</th>\n",
       "      <td>4GT1sQ_pcKk4gBMrJddexw</td>\n",
       "      <td>pesto-italian-craft-kitchen-college-san-diego-2</td>\n",
       "      <td>Pesto Italian Craft Kitchen College</td>\n",
       "      <td>https://s3-media3.fl.yelpcdn.com/bphoto/rFQAlX...</td>\n",
       "      <td>False</td>\n",
       "      <td>https://www.yelp.com/biz/pesto-italian-craft-k...</td>\n",
       "      <td>1730</td>\n",
       "      <td>[{'alias': 'pizza', 'title': 'Pizza'}, {'alias...</td>\n",
       "      <td>4.5</td>\n",
       "      <td>{'latitude': 32.760629, 'longitude': -117.067999}</td>\n",
       "      <td>[delivery, pickup]</td>\n",
       "      <td>$$</td>\n",
       "      <td>{'address1': '6011 El Cajon Blvd A', 'address2...</td>\n",
       "      <td>+16192652700</td>\n",
       "      <td>(619) 265-2700</td>\n",
       "      <td>8709.615928</td>\n",
       "    </tr>\n",
       "    <tr>\n",
       "      <th>4</th>\n",
       "      <td>AlO78to1upUkVhRx12XtVA</td>\n",
       "      <td>cucina-basilico-san-diego</td>\n",
       "      <td>Cucina Basilico</td>\n",
       "      <td>https://s3-media4.fl.yelpcdn.com/bphoto/iiExW4...</td>\n",
       "      <td>False</td>\n",
       "      <td>https://www.yelp.com/biz/cucina-basilico-san-d...</td>\n",
       "      <td>672</td>\n",
       "      <td>[{'alias': 'italian', 'title': 'Italian'}]</td>\n",
       "      <td>4.5</td>\n",
       "      <td>{'latitude': 32.81065, 'longitude': -117.116113}</td>\n",
       "      <td>[delivery]</td>\n",
       "      <td>$$</td>\n",
       "      <td>{'address1': '3755 Murphy Canyon Rd', 'address...</td>\n",
       "      <td>+18588746436</td>\n",
       "      <td>(858) 874-6436</td>\n",
       "      <td>4192.916038</td>\n",
       "    </tr>\n",
       "  </tbody>\n",
       "</table>\n",
       "</div>"
      ],
      "text/plain": [
       "                       id                                              alias  \\\n",
       "0  W0dzJ7E6R3kyAOXIlO_tbw                       ristorante-illando-san-diego   \n",
       "1  ruZ45_rMndqb7aLEr6VSOw                               cesarina-san-diego-3   \n",
       "2  qXRzQERT-WFDo6spPeQwZw  pesto-italian-craft-kitchen-mission-valley-san...   \n",
       "3  4GT1sQ_pcKk4gBMrJddexw    pesto-italian-craft-kitchen-college-san-diego-2   \n",
       "4  AlO78to1upUkVhRx12XtVA                          cucina-basilico-san-diego   \n",
       "\n",
       "                                           name  \\\n",
       "0                            Ristorante Illando   \n",
       "1                                      Cesarina   \n",
       "2  Pesto Italian Craft Kitchen - Mission Valley   \n",
       "3           Pesto Italian Craft Kitchen College   \n",
       "4                               Cucina Basilico   \n",
       "\n",
       "                                           image_url  is_closed  \\\n",
       "0  https://s3-media3.fl.yelpcdn.com/bphoto/7U-OZH...      False   \n",
       "1  https://s3-media1.fl.yelpcdn.com/bphoto/Yv3Z0k...      False   \n",
       "2  https://s3-media2.fl.yelpcdn.com/bphoto/OVbDWc...      False   \n",
       "3  https://s3-media3.fl.yelpcdn.com/bphoto/rFQAlX...      False   \n",
       "4  https://s3-media4.fl.yelpcdn.com/bphoto/iiExW4...      False   \n",
       "\n",
       "                                                 url  review_count  \\\n",
       "0  https://www.yelp.com/biz/ristorante-illando-sa...          2140   \n",
       "1  https://www.yelp.com/biz/cesarina-san-diego-3?...          1402   \n",
       "2  https://www.yelp.com/biz/pesto-italian-craft-k...           345   \n",
       "3  https://www.yelp.com/biz/pesto-italian-craft-k...          1730   \n",
       "4  https://www.yelp.com/biz/cucina-basilico-san-d...           672   \n",
       "\n",
       "                                          categories  rating  \\\n",
       "0         [{'alias': 'italian', 'title': 'Italian'}]     4.5   \n",
       "1  [{'alias': 'italian', 'title': 'Italian'}, {'a...     5.0   \n",
       "2  [{'alias': 'pizza', 'title': 'Pizza'}, {'alias...     4.5   \n",
       "3  [{'alias': 'pizza', 'title': 'Pizza'}, {'alias...     4.5   \n",
       "4         [{'alias': 'italian', 'title': 'Italian'}]     4.5   \n",
       "\n",
       "                                         coordinates  \\\n",
       "0  {'latitude': 32.724048614502, 'longitude': -11...   \n",
       "1    {'latitude': 32.74319, 'longitude': -117.23453}   \n",
       "2  {'latitude': 32.769922, 'longitude': -117.146673}   \n",
       "3  {'latitude': 32.760629, 'longitude': -117.067999}   \n",
       "4   {'latitude': 32.81065, 'longitude': -117.116113}   \n",
       "\n",
       "                                 transactions price  \\\n",
       "0  [restaurant_reservation, delivery, pickup]    $$   \n",
       "1                                  [delivery]    $$   \n",
       "2                          [delivery, pickup]    $$   \n",
       "3                          [delivery, pickup]    $$   \n",
       "4                                  [delivery]    $$   \n",
       "\n",
       "                                            location         phone  \\\n",
       "0  {'address1': '1825 India Street', 'address2': ...  +16196935204   \n",
       "1  {'address1': '4161 Voltaire St', 'address2': '...  +16192266222   \n",
       "2  {'address1': '1652 Camino Del Rio N', 'address...  +16196799030   \n",
       "3  {'address1': '6011 El Cajon Blvd A', 'address2...  +16192652700   \n",
       "4  {'address1': '3755 Murphy Canyon Rd', 'address...  +18588746436   \n",
       "\n",
       "    display_phone     distance  \n",
       "0  (619) 693-5204  7514.018555  \n",
       "1  (619) 226-6222  9184.829871  \n",
       "2  (619) 679-9030  2395.158360  \n",
       "3  (619) 265-2700  8709.615928  \n",
       "4  (858) 874-6436  4192.916038  "
      ]
     },
     "metadata": {},
     "output_type": "display_data"
    },
    {
     "data": {
      "text/html": [
       "<div>\n",
       "<style scoped>\n",
       "    .dataframe tbody tr th:only-of-type {\n",
       "        vertical-align: middle;\n",
       "    }\n",
       "\n",
       "    .dataframe tbody tr th {\n",
       "        vertical-align: top;\n",
       "    }\n",
       "\n",
       "    .dataframe thead th {\n",
       "        text-align: right;\n",
       "    }\n",
       "</style>\n",
       "<table border=\"1\" class=\"dataframe\">\n",
       "  <thead>\n",
       "    <tr style=\"text-align: right;\">\n",
       "      <th></th>\n",
       "      <th>id</th>\n",
       "      <th>alias</th>\n",
       "      <th>name</th>\n",
       "      <th>image_url</th>\n",
       "      <th>is_closed</th>\n",
       "      <th>url</th>\n",
       "      <th>review_count</th>\n",
       "      <th>categories</th>\n",
       "      <th>rating</th>\n",
       "      <th>coordinates</th>\n",
       "      <th>transactions</th>\n",
       "      <th>price</th>\n",
       "      <th>location</th>\n",
       "      <th>phone</th>\n",
       "      <th>display_phone</th>\n",
       "      <th>distance</th>\n",
       "    </tr>\n",
       "  </thead>\n",
       "  <tbody>\n",
       "    <tr>\n",
       "      <th>951</th>\n",
       "      <td>j_te1-9iaR9wKninc321ZA</td>\n",
       "      <td>jimbos-carlsbad</td>\n",
       "      <td>Jimbo's</td>\n",
       "      <td>https://s3-media3.fl.yelpcdn.com/bphoto/Bw6NSw...</td>\n",
       "      <td>False</td>\n",
       "      <td>https://www.yelp.com/biz/jimbos-carlsbad?adjus...</td>\n",
       "      <td>221</td>\n",
       "      <td>[{'alias': 'grocery', 'title': 'Grocery'}, {'a...</td>\n",
       "      <td>4.0</td>\n",
       "      <td>{'latitude': 33.0723073917475, 'longitude': -1...</td>\n",
       "      <td>[delivery]</td>\n",
       "      <td>$$</td>\n",
       "      <td>{'address1': '1923 Calle Barcelona', 'address2...</td>\n",
       "      <td>+17603347755</td>\n",
       "      <td>(760) 334-7755</td>\n",
       "      <td>32993.906277</td>\n",
       "    </tr>\n",
       "    <tr>\n",
       "      <th>952</th>\n",
       "      <td>_MUDy_IRMbmW9qoBbGkfmg</td>\n",
       "      <td>dominos-pizza-escondido-3</td>\n",
       "      <td>Domino's Pizza</td>\n",
       "      <td>https://s3-media2.fl.yelpcdn.com/bphoto/ELK2kM...</td>\n",
       "      <td>False</td>\n",
       "      <td>https://www.yelp.com/biz/dominos-pizza-escondi...</td>\n",
       "      <td>110</td>\n",
       "      <td>[{'alias': 'pizza', 'title': 'Pizza'}, {'alias...</td>\n",
       "      <td>2.0</td>\n",
       "      <td>{'latitude': 33.1343765258789, 'longitude': -1...</td>\n",
       "      <td>[]</td>\n",
       "      <td>$</td>\n",
       "      <td>{'address1': '120 E Lincoln Ave', 'address2': ...</td>\n",
       "      <td>+17604800800</td>\n",
       "      <td>(760) 480-0800</td>\n",
       "      <td>38748.621683</td>\n",
       "    </tr>\n",
       "    <tr>\n",
       "      <th>953</th>\n",
       "      <td>UoZgAW9b5XTP_xMMBnfDwA</td>\n",
       "      <td>panera-bread-san-diego-5</td>\n",
       "      <td>Panera Bread</td>\n",
       "      <td>https://s3-media2.fl.yelpcdn.com/bphoto/XW_qki...</td>\n",
       "      <td>False</td>\n",
       "      <td>https://www.yelp.com/biz/panera-bread-san-dieg...</td>\n",
       "      <td>214</td>\n",
       "      <td>[{'alias': 'sandwiches', 'title': 'Sandwiches'...</td>\n",
       "      <td>3.0</td>\n",
       "      <td>{'latitude': 33.019965, 'longitude': -117.114366}</td>\n",
       "      <td>[delivery, pickup]</td>\n",
       "      <td>$$</td>\n",
       "      <td>{'address1': '10430 Craftsman Way', 'address2'...</td>\n",
       "      <td>+18584511500</td>\n",
       "      <td>(858) 451-1500</td>\n",
       "      <td>25775.678988</td>\n",
       "    </tr>\n",
       "    <tr>\n",
       "      <th>954</th>\n",
       "      <td>gVhkehhbDCxyd2K1soQHqQ</td>\n",
       "      <td>pizza-hut-san-marcos-13</td>\n",
       "      <td>Pizza Hut</td>\n",
       "      <td>https://s3-media2.fl.yelpcdn.com/bphoto/0MPuzW...</td>\n",
       "      <td>False</td>\n",
       "      <td>https://www.yelp.com/biz/pizza-hut-san-marcos-...</td>\n",
       "      <td>54</td>\n",
       "      <td>[{'alias': 'pizza', 'title': 'Pizza'}, {'alias...</td>\n",
       "      <td>3.0</td>\n",
       "      <td>{'latitude': 33.132928, 'longitude': -117.121677}</td>\n",
       "      <td>[delivery, pickup]</td>\n",
       "      <td>$</td>\n",
       "      <td>{'address1': '705 Center Dr', 'address2': 'Ste...</td>\n",
       "      <td>+17604896000</td>\n",
       "      <td>(760) 489-6000</td>\n",
       "      <td>38186.255621</td>\n",
       "    </tr>\n",
       "    <tr>\n",
       "      <th>955</th>\n",
       "      <td>CO7imJydnHW1wyFP6ZPZqA</td>\n",
       "      <td>panera-bread-solana-beach</td>\n",
       "      <td>Panera Bread</td>\n",
       "      <td>https://s3-media3.fl.yelpcdn.com/bphoto/ptgZ5u...</td>\n",
       "      <td>False</td>\n",
       "      <td>https://www.yelp.com/biz/panera-bread-solana-b...</td>\n",
       "      <td>167</td>\n",
       "      <td>[{'alias': 'sandwiches', 'title': 'Sandwiches'...</td>\n",
       "      <td>3.0</td>\n",
       "      <td>{'latitude': 32.99386433036879, 'longitude': -...</td>\n",
       "      <td>[delivery, pickup]</td>\n",
       "      <td>$$</td>\n",
       "      <td>{'address1': '667 San Rodolfo Drive', 'address...</td>\n",
       "      <td>+18584810050</td>\n",
       "      <td>(858) 481-0050</td>\n",
       "      <td>24647.555727</td>\n",
       "    </tr>\n",
       "  </tbody>\n",
       "</table>\n",
       "</div>"
      ],
      "text/plain": [
       "                         id                      alias            name  \\\n",
       "951  j_te1-9iaR9wKninc321ZA            jimbos-carlsbad         Jimbo's   \n",
       "952  _MUDy_IRMbmW9qoBbGkfmg  dominos-pizza-escondido-3  Domino's Pizza   \n",
       "953  UoZgAW9b5XTP_xMMBnfDwA   panera-bread-san-diego-5    Panera Bread   \n",
       "954  gVhkehhbDCxyd2K1soQHqQ    pizza-hut-san-marcos-13       Pizza Hut   \n",
       "955  CO7imJydnHW1wyFP6ZPZqA  panera-bread-solana-beach    Panera Bread   \n",
       "\n",
       "                                             image_url  is_closed  \\\n",
       "951  https://s3-media3.fl.yelpcdn.com/bphoto/Bw6NSw...      False   \n",
       "952  https://s3-media2.fl.yelpcdn.com/bphoto/ELK2kM...      False   \n",
       "953  https://s3-media2.fl.yelpcdn.com/bphoto/XW_qki...      False   \n",
       "954  https://s3-media2.fl.yelpcdn.com/bphoto/0MPuzW...      False   \n",
       "955  https://s3-media3.fl.yelpcdn.com/bphoto/ptgZ5u...      False   \n",
       "\n",
       "                                                   url  review_count  \\\n",
       "951  https://www.yelp.com/biz/jimbos-carlsbad?adjus...           221   \n",
       "952  https://www.yelp.com/biz/dominos-pizza-escondi...           110   \n",
       "953  https://www.yelp.com/biz/panera-bread-san-dieg...           214   \n",
       "954  https://www.yelp.com/biz/pizza-hut-san-marcos-...            54   \n",
       "955  https://www.yelp.com/biz/panera-bread-solana-b...           167   \n",
       "\n",
       "                                            categories  rating  \\\n",
       "951  [{'alias': 'grocery', 'title': 'Grocery'}, {'a...     4.0   \n",
       "952  [{'alias': 'pizza', 'title': 'Pizza'}, {'alias...     2.0   \n",
       "953  [{'alias': 'sandwiches', 'title': 'Sandwiches'...     3.0   \n",
       "954  [{'alias': 'pizza', 'title': 'Pizza'}, {'alias...     3.0   \n",
       "955  [{'alias': 'sandwiches', 'title': 'Sandwiches'...     3.0   \n",
       "\n",
       "                                           coordinates        transactions  \\\n",
       "951  {'latitude': 33.0723073917475, 'longitude': -1...          [delivery]   \n",
       "952  {'latitude': 33.1343765258789, 'longitude': -1...                  []   \n",
       "953  {'latitude': 33.019965, 'longitude': -117.114366}  [delivery, pickup]   \n",
       "954  {'latitude': 33.132928, 'longitude': -117.121677}  [delivery, pickup]   \n",
       "955  {'latitude': 32.99386433036879, 'longitude': -...  [delivery, pickup]   \n",
       "\n",
       "    price                                           location         phone  \\\n",
       "951    $$  {'address1': '1923 Calle Barcelona', 'address2...  +17603347755   \n",
       "952     $  {'address1': '120 E Lincoln Ave', 'address2': ...  +17604800800   \n",
       "953    $$  {'address1': '10430 Craftsman Way', 'address2'...  +18584511500   \n",
       "954     $  {'address1': '705 Center Dr', 'address2': 'Ste...  +17604896000   \n",
       "955    $$  {'address1': '667 San Rodolfo Drive', 'address...  +18584810050   \n",
       "\n",
       "      display_phone      distance  \n",
       "951  (760) 334-7755  32993.906277  \n",
       "952  (760) 480-0800  38748.621683  \n",
       "953  (858) 451-1500  25775.678988  \n",
       "954  (760) 489-6000  38186.255621  \n",
       "955  (858) 481-0050  24647.555727  "
      ]
     },
     "metadata": {},
     "output_type": "display_data"
    }
   ],
   "source": [
    "# load final results\n",
    "final_df = pd.read_json(JSON_FILE)\n",
    "display(final_df.head(), final_df.tail())"
   ]
  },
  {
   "cell_type": "code",
   "execution_count": 38,
   "id": "e27ad6d5",
   "metadata": {},
   "outputs": [
    {
     "data": {
      "text/plain": [
       "1"
      ]
     },
     "execution_count": 38,
     "metadata": {},
     "output_type": "execute_result"
    }
   ],
   "source": [
    "# check for duplicate IDs\n",
    "final_df.duplicated(subset='id').sum()"
   ]
  },
  {
   "cell_type": "code",
   "execution_count": null,
   "id": "8c4d8356",
   "metadata": {},
   "outputs": [],
   "source": [
    "# save the final results to a compressed csv\n",
    "final_df.to_csv('Data/results_Toronto_Sushi.csv.gz', compression='gzip',index=False)"
   ]
  }
 ],
 "metadata": {
  "kernelspec": {
   "display_name": "Python (dojo-env)",
   "language": "python",
   "name": "dojo-env"
  },
  "language_info": {
   "codemirror_mode": {
    "name": "ipython",
    "version": 3
   },
   "file_extension": ".py",
   "mimetype": "text/x-python",
   "name": "python",
   "nbconvert_exporter": "python",
   "pygments_lexer": "ipython3",
   "version": "3.8.13"
  },
  "toc": {
   "base_numbering": 1,
   "nav_menu": {},
   "number_sections": false,
   "sideBar": true,
   "skip_h1_title": false,
   "title_cell": "Table of Contents",
   "title_sidebar": "Contents",
   "toc_cell": false,
   "toc_position": {},
   "toc_section_display": true,
   "toc_window_display": false
  }
 },
 "nbformat": 4,
 "nbformat_minor": 5
}
